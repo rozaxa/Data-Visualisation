{
 "cells": [
  {
   "cell_type": "code",
   "execution_count": 12,
   "metadata": {
    "collapsed": true
   },
   "outputs": [],
   "source": [
    "import pandas as pd\n",
    "import numpy as np"
   ]
  },
  {
   "cell_type": "code",
   "execution_count": 13,
   "outputs": [],
   "source": [
    "df1 = pd.read_csv(r'..\\data\\netflix-rotten-tomatoes-metacritic-imdb.csv')\n",
    "df2 = pd.read_csv(r'..\\data\\netflix_titles.csv')"
   ],
   "metadata": {
    "collapsed": false,
    "pycharm": {
     "name": "#%%\n"
    }
   }
  },
  {
   "cell_type": "code",
   "execution_count": 17,
   "outputs": [
    {
     "name": "stdout",
     "output_type": "stream",
     "text": [
      "<class 'pandas.core.frame.DataFrame'>\n",
      "Int64Index: 6095 entries, 0 to 6094\n",
      "Data columns (total 41 columns):\n",
      " #   Column                 Non-Null Count  Dtype  \n",
      "---  ------                 --------------  -----  \n",
      " 0   Title                  6095 non-null   object \n",
      " 1   Genre                  5735 non-null   object \n",
      " 2   Tags                   6071 non-null   object \n",
      " 3   Languages              5547 non-null   object \n",
      " 4   Series or Movie        6095 non-null   object \n",
      " 5   Hidden Gem Score       5601 non-null   float64\n",
      " 6   Country Availability   6086 non-null   object \n",
      " 7   Runtime                6094 non-null   object \n",
      " 8   Director               4073 non-null   object \n",
      " 9   Writer                 4363 non-null   object \n",
      " 10  Actors                 5611 non-null   object \n",
      " 11  View Rating            3728 non-null   object \n",
      " 12  IMDb Score             5601 non-null   float64\n",
      " 13  Rotten Tomatoes Score  2210 non-null   float64\n",
      " 14  Metacritic Score       1445 non-null   float64\n",
      " 15  Awards Received        2213 non-null   float64\n",
      " 16  Awards Nominated For   2881 non-null   float64\n",
      " 17  Boxoffice              1181 non-null   object \n",
      " 18  Release Date           5532 non-null   object \n",
      " 19  Netflix Release Date   6095 non-null   object \n",
      " 20  Production House       1661 non-null   object \n",
      " 21  Netflix Link           6095 non-null   object \n",
      " 22  IMDb Link              5403 non-null   object \n",
      " 23  Summary                6094 non-null   object \n",
      " 24  IMDb Votes             5601 non-null   float64\n",
      " 25  Image                  6095 non-null   object \n",
      " 26  Poster                 4685 non-null   object \n",
      " 27  TMDb Trailer           2714 non-null   object \n",
      " 28  Trailer Site           2714 non-null   object \n",
      " 29  show_id                6095 non-null   object \n",
      " 30  type                   6095 non-null   object \n",
      " 31  title                  6095 non-null   object \n",
      " 32  director               4101 non-null   object \n",
      " 33  cast                   5607 non-null   object \n",
      " 34  country                5670 non-null   object \n",
      " 35  date_added             6093 non-null   object \n",
      " 36  release_year           6095 non-null   int64  \n",
      " 37  rating                 6093 non-null   object \n",
      " 38  duration               6092 non-null   object \n",
      " 39  listed_in              6095 non-null   object \n",
      " 40  description            6095 non-null   object \n",
      "dtypes: float64(7), int64(1), object(33)\n",
      "memory usage: 2.0+ MB\n"
     ]
    }
   ],
   "source": [
    "df = pd.merge(\n",
    "    df1,\n",
    "    df2,\n",
    "    how='inner',\n",
    "    left_on='Title',\n",
    "    right_on='title'\n",
    ")\n",
    "\n",
    "df.info(10)"
   ],
   "metadata": {
    "collapsed": false,
    "pycharm": {
     "name": "#%%\n"
    }
   }
  },
  {
   "cell_type": "code",
   "execution_count": 26,
   "outputs": [
    {
     "name": "stdout",
     "output_type": "stream",
     "text": [
      "<class 'pandas.core.frame.DataFrame'>\n",
      "RangeIndex: 15480 entries, 0 to 15479\n",
      "Data columns (total 29 columns):\n",
      " #   Column                 Non-Null Count  Dtype  \n",
      "---  ------                 --------------  -----  \n",
      " 0   Title                  15480 non-null  object \n",
      " 1   Genre                  13770 non-null  object \n",
      " 2   Tags                   15413 non-null  object \n",
      " 3   Languages              13545 non-null  object \n",
      " 4   Series or Movie        15480 non-null  object \n",
      " 5   Hidden Gem Score       13379 non-null  float64\n",
      " 6   Country Availability   15461 non-null  object \n",
      " 7   Runtime                15479 non-null  object \n",
      " 8   Director               10772 non-null  object \n",
      " 9   Writer                 11150 non-null  object \n",
      " 10  Actors                 13555 non-null  object \n",
      " 11  View Rating            8456 non-null   object \n",
      " 12  IMDb Score             13381 non-null  float64\n",
      " 13  Rotten Tomatoes Score  6382 non-null   float64\n",
      " 14  Metacritic Score       4336 non-null   float64\n",
      " 15  Awards Received        6075 non-null   float64\n",
      " 16  Awards Nominated For   7661 non-null   float64\n",
      " 17  Boxoffice              4007 non-null   object \n",
      " 18  Release Date           13373 non-null  object \n",
      " 19  Netflix Release Date   15480 non-null  object \n",
      " 20  Production House       5149 non-null   object \n",
      " 21  Netflix Link           15480 non-null  object \n",
      " 22  IMDb Link              13177 non-null  object \n",
      " 23  Summary                15471 non-null  object \n",
      " 24  IMDb Votes             13379 non-null  float64\n",
      " 25  Image                  15480 non-null  object \n",
      " 26  Poster                 11842 non-null  object \n",
      " 27  TMDb Trailer           7194 non-null   object \n",
      " 28  Trailer Site           7194 non-null   object \n",
      "dtypes: float64(7), object(22)\n",
      "memory usage: 3.4+ MB\n"
     ]
    }
   ],
   "source": [
    "df1.info()"
   ],
   "metadata": {
    "collapsed": false,
    "pycharm": {
     "name": "#%%\n"
    }
   }
  },
  {
   "cell_type": "code",
   "execution_count": 27,
   "outputs": [
    {
     "data": {
      "text/plain": "Title                        0\nGenre                     1710\nTags                        67\nLanguages                 1935\nSeries or Movie              0\nHidden Gem Score          2101\nCountry Availability        19\nRuntime                      1\nDirector                  4708\nWriter                    4330\nActors                    1925\nView Rating               7024\nIMDb Score                2099\nRotten Tomatoes Score     9098\nMetacritic Score         11144\nAwards Received           9405\nAwards Nominated For      7819\nBoxoffice                11473\nRelease Date              2107\nNetflix Release Date         0\nProduction House         10331\nNetflix Link                 0\nIMDb Link                 2303\nSummary                      9\nIMDb Votes                2101\nImage                        0\nPoster                    3638\nTMDb Trailer              8286\nTrailer Site              8286\ndtype: int64"
     },
     "execution_count": 27,
     "metadata": {},
     "output_type": "execute_result"
    }
   ],
   "source": [
    "df1.isnull().sum()"
   ],
   "metadata": {
    "collapsed": false,
    "pycharm": {
     "name": "#%%\n"
    }
   }
  },
  {
   "cell_type": "code",
   "execution_count": 28,
   "outputs": [
    {
     "data": {
      "text/plain": "                                     Title  \\\n7904          River, el más grande siempre   \n3122   The Last Black Man in San Francisco   \n7157                       Judge Singh LLB   \n4862       Wotakoi: Love is Hard for Otaku   \n8752                           The Job Lot   \n10130                            Salaakhen   \n4860                              Skylines   \n5366               Neon Genesis Evangelion   \n9766                    World At Your Feet   \n13310                             Room 205   \n\n                                                   Genre  \\\n7904                                  Documentary, Sport   \n3122                                               Drama   \n7157                                               Drama   \n4862                          Animation, Comedy, Romance   \n8752                                              Comedy   \n10130                                      Action, Drama   \n4860                                 Crime, Drama, Music   \n5366   Animation, Action, Drama, Fantasy, Sci-Fi, Thr...   \n9766                                               Drama   \n13310                                             Horror   \n\n                                                    Tags          Languages  \\\n7904   Argentinian Movies,Sports Movies,Documentaries...            Spanish   \n3122   Social Issue Dramas,Dramas,Independent Movies,...            English   \n7157   Comedies,Courtroom Dramas,Dramas,Indian Movies...            Punjabi   \n4862   Comedy Anime,Romance Anime,Anime based on Comi...           Japanese   \n8752   Comedy Programmes,British Programmes,TV Progra...            English   \n10130  Crime Action & Adventure,Action Thrillers,Acti...              Hindi   \n4860    German TV Shows,Hip-Hop,TV Dramas,Crime TV Shows                NaN   \n5366   Cyborg & Robot Anime,Futuristic Sci-Fi,Action ...  Japanese, English   \n9766      TV Programmes,TV Dramas,Singaporean Programmes            Chinese   \n13310  Horror Films,Scandinavian Films,International ...             Danish   \n\n      Series or Movie  Hidden Gem Score  \\\n7904            Movie               8.6   \n3122            Movie               4.1   \n7157            Movie               8.6   \n4862           Series               8.0   \n8752           Series               7.9   \n10130           Movie               7.5   \n4860           Series               7.7   \n5366           Series               4.2   \n9766           Series               NaN   \n13310           Movie               5.9   \n\n                                    Country Availability       Runtime  \\\n7904   Czech Republic,Australia,France,Belgium,Russia...      1-2 hour   \n3122                                         South Korea       > 2 hrs   \n7157   Australia,Russia,Singapore,India,Hungary,Lithu...       > 2 hrs   \n4862                                               Japan  < 30 minutes   \n8752                                      United Kingdom  < 30 minutes   \n10130  Lithuania,India,Australia,United Kingdom,Canad...       > 2 hrs   \n4860   India,Lithuania,Mexico,Argentina,Brazil,Romani...  < 30 minutes   \n5366   Lithuania,India,Slovakia,Spain,United Kingdom,...  < 30 minutes   \n9766   Singapore,Hungary,Lithuania,India,Australia,Un...  < 30 minutes   \n13310  Lithuania,Poland,France,Italy,Spain,Greece,Cze...      1-2 hour   \n\n                                               Director  \\\n7904   Mariano Mucci, Marcelo Altmark, Luis A. Scalella   \n3122                                         Joe Talbot   \n7157                                      Atharv Baluja   \n4862                                                NaN   \n8752                                                NaN   \n10130                                      Guddu Dhanoa   \n4860                                                NaN   \n5366                                                NaN   \n9766                                                NaN   \n13310                                  Martin Barnewitz   \n\n                                                  Writer  ...  \\\n7904   Mariano Mucci, Enrique Albistur, Marcelo Altma...  ...   \n3122   Jimmie Fails, Fritzi Adelman, Joe Talbot, Pren...  ...   \n7157   Chandan Prabhakar, Vijay Soni, Atharv Baluja, ...  ...   \n4862                                                 NaN  ...   \n8752                                                 NaN  ...   \n10130                                       Dilip Shukla  ...   \n4860                                       Dennis Schanz  ...   \n5366                                        Hideaki Anno  ...   \n9766                                                 NaN  ...   \n13310                                 Jannik Tai Mosholt  ...   \n\n      Netflix Release Date           Production House  \\\n7904            2019-07-05                        NaN   \n3122            2020-06-14  A24, Plan B Entertainment   \n7157            2018-09-30                        NaN   \n4862            2019-09-27                        NaN   \n8752            2018-03-31                        NaN   \n10130           2017-04-01                        NaN   \n4860            2019-09-27                        NaN   \n5366            2019-06-21                        NaN   \n9766            2017-07-01                        NaN   \n13310           2015-04-14               Nordisk Film   \n\n                                 Netflix Link  \\\n7904   https://www.netflix.com/watch/80223153   \n3122   https://www.netflix.com/watch/81049917   \n7157   https://www.netflix.com/watch/81024713   \n4862   https://www.netflix.com/watch/81149659   \n8752   https://www.netflix.com/watch/80989341   \n10130  https://www.netflix.com/watch/80158479   \n4860   https://www.netflix.com/watch/80220715   \n5366   https://www.netflix.com/watch/81033445   \n9766   https://www.netflix.com/watch/80160125   \n13310  https://www.netflix.com/watch/70105903   \n\n                                  IMDb Link  \\\n7904                                    NaN   \n3122   https://www.imdb.com/title/tt4353250   \n7157   https://www.imdb.com/title/tt4678200   \n4862   https://www.imdb.com/title/tt8254880   \n8752   https://www.imdb.com/title/tt2885556   \n10130  https://www.imdb.com/title/tt0286936   \n4860   https://www.imdb.com/title/tt9184970   \n5366   https://www.imdb.com/title/tt0112159   \n9766   https://www.imdb.com/title/tt4544590   \n13310  https://www.imdb.com/title/tt1003005   \n\n                                                 Summary  IMDb Votes  \\\n7904   Experience the highlights of Argentine soccer ...       106.0   \n3122   Weary of watching his gentrified city slip out...     14687.0   \n7157   Framed by a politician for committing murder, ...       204.0   \n4862   A closeted fangirl begins dating a coworker an...      1623.0   \n8752   Employees at a dysfunctional British job cente...      1368.0   \n10130  Two close childhood friends take drastically d...       403.0   \n4860   A hip-hop producer gets hurled into the violen...      2268.0   \n5366   Fifteen years after the Second Impact, Shinji ...     50749.0   \n9766   A group of struggling individuals are united b...         NaN   \n13310  After moving into a new dorm, a coed begins to...      1369.0   \n\n                                                   Image  \\\n7904   https://occ-0-2851-38.1.nflxso.net/dnm/api/v6/...   \n3122   https://occ-0-1007-1360.1.nflxso.net/dnm/api/v...   \n7157   https://occ-0-2851-38.1.nflxso.net/dnm/api/v6/...   \n4862   https://occ-0-1007-1360.1.nflxso.net/dnm/api/v...   \n8752   https://occ-0-1091-300.1.nflxso.net/dnm/api/v6...   \n10130  https://occ-0-2851-38.1.nflxso.net/dnm/api/v6/...   \n4860   https://occ-0-2851-38.1.nflxso.net/dnm/api/v6/...   \n5366   https://occ-0-2851-38.1.nflxso.net/dnm/api/v6/...   \n9766   https://occ-0-2851-38.1.nflxso.net/dnm/api/v6/...   \n13310  https://occ-0-38-1501.1.nflxso.net/art/17031/4...   \n\n                                                  Poster  \\\n7904                                                 NaN   \n3122   https://m.media-amazon.com/images/M/MV5BNTQ5OT...   \n7157   https://images-na.ssl-images-amazon.com/images...   \n4862   https://m.media-amazon.com/images/M/MV5BYjhlZj...   \n8752   https://images-na.ssl-images-amazon.com/images...   \n10130  http://ia.media-imdb.com/images/M/MV5BMGYwODg5...   \n4860   https://m.media-amazon.com/images/M/MV5BZTJkYz...   \n5366   https://m.media-amazon.com/images/M/MV5BYjY1Y2...   \n9766                                                 NaN   \n13310  http://ia.media-imdb.com/images/M/MV5BMTg5OTMx...   \n\n                                      TMDb Trailer Trailer Site  \n7904                                           NaN          NaN  \n3122   https://www.youtube.com/watch?v=C0FnJDhY9-0      YouTube  \n7157   https://www.youtube.com/watch?v=595DS1aPoI4      YouTube  \n4862                                           NaN          NaN  \n8752                                           NaN          NaN  \n10130                                          NaN          NaN  \n4860                                           NaN          NaN  \n5366                                           NaN          NaN  \n9766                                           NaN          NaN  \n13310                                          NaN          NaN  \n\n[10 rows x 29 columns]",
      "text/html": "<div>\n<style scoped>\n    .dataframe tbody tr th:only-of-type {\n        vertical-align: middle;\n    }\n\n    .dataframe tbody tr th {\n        vertical-align: top;\n    }\n\n    .dataframe thead th {\n        text-align: right;\n    }\n</style>\n<table border=\"1\" class=\"dataframe\">\n  <thead>\n    <tr style=\"text-align: right;\">\n      <th></th>\n      <th>Title</th>\n      <th>Genre</th>\n      <th>Tags</th>\n      <th>Languages</th>\n      <th>Series or Movie</th>\n      <th>Hidden Gem Score</th>\n      <th>Country Availability</th>\n      <th>Runtime</th>\n      <th>Director</th>\n      <th>Writer</th>\n      <th>...</th>\n      <th>Netflix Release Date</th>\n      <th>Production House</th>\n      <th>Netflix Link</th>\n      <th>IMDb Link</th>\n      <th>Summary</th>\n      <th>IMDb Votes</th>\n      <th>Image</th>\n      <th>Poster</th>\n      <th>TMDb Trailer</th>\n      <th>Trailer Site</th>\n    </tr>\n  </thead>\n  <tbody>\n    <tr>\n      <th>7904</th>\n      <td>River, el más grande siempre</td>\n      <td>Documentary, Sport</td>\n      <td>Argentinian Movies,Sports Movies,Documentaries...</td>\n      <td>Spanish</td>\n      <td>Movie</td>\n      <td>8.6</td>\n      <td>Czech Republic,Australia,France,Belgium,Russia...</td>\n      <td>1-2 hour</td>\n      <td>Mariano Mucci, Marcelo Altmark, Luis A. Scalella</td>\n      <td>Mariano Mucci, Enrique Albistur, Marcelo Altma...</td>\n      <td>...</td>\n      <td>2019-07-05</td>\n      <td>NaN</td>\n      <td>https://www.netflix.com/watch/80223153</td>\n      <td>NaN</td>\n      <td>Experience the highlights of Argentine soccer ...</td>\n      <td>106.0</td>\n      <td>https://occ-0-2851-38.1.nflxso.net/dnm/api/v6/...</td>\n      <td>NaN</td>\n      <td>NaN</td>\n      <td>NaN</td>\n    </tr>\n    <tr>\n      <th>3122</th>\n      <td>The Last Black Man in San Francisco</td>\n      <td>Drama</td>\n      <td>Social Issue Dramas,Dramas,Independent Movies,...</td>\n      <td>English</td>\n      <td>Movie</td>\n      <td>4.1</td>\n      <td>South Korea</td>\n      <td>&gt; 2 hrs</td>\n      <td>Joe Talbot</td>\n      <td>Jimmie Fails, Fritzi Adelman, Joe Talbot, Pren...</td>\n      <td>...</td>\n      <td>2020-06-14</td>\n      <td>A24, Plan B Entertainment</td>\n      <td>https://www.netflix.com/watch/81049917</td>\n      <td>https://www.imdb.com/title/tt4353250</td>\n      <td>Weary of watching his gentrified city slip out...</td>\n      <td>14687.0</td>\n      <td>https://occ-0-1007-1360.1.nflxso.net/dnm/api/v...</td>\n      <td>https://m.media-amazon.com/images/M/MV5BNTQ5OT...</td>\n      <td>https://www.youtube.com/watch?v=C0FnJDhY9-0</td>\n      <td>YouTube</td>\n    </tr>\n    <tr>\n      <th>7157</th>\n      <td>Judge Singh LLB</td>\n      <td>Drama</td>\n      <td>Comedies,Courtroom Dramas,Dramas,Indian Movies...</td>\n      <td>Punjabi</td>\n      <td>Movie</td>\n      <td>8.6</td>\n      <td>Australia,Russia,Singapore,India,Hungary,Lithu...</td>\n      <td>&gt; 2 hrs</td>\n      <td>Atharv Baluja</td>\n      <td>Chandan Prabhakar, Vijay Soni, Atharv Baluja, ...</td>\n      <td>...</td>\n      <td>2018-09-30</td>\n      <td>NaN</td>\n      <td>https://www.netflix.com/watch/81024713</td>\n      <td>https://www.imdb.com/title/tt4678200</td>\n      <td>Framed by a politician for committing murder, ...</td>\n      <td>204.0</td>\n      <td>https://occ-0-2851-38.1.nflxso.net/dnm/api/v6/...</td>\n      <td>https://images-na.ssl-images-amazon.com/images...</td>\n      <td>https://www.youtube.com/watch?v=595DS1aPoI4</td>\n      <td>YouTube</td>\n    </tr>\n    <tr>\n      <th>4862</th>\n      <td>Wotakoi: Love is Hard for Otaku</td>\n      <td>Animation, Comedy, Romance</td>\n      <td>Comedy Anime,Romance Anime,Anime based on Comi...</td>\n      <td>Japanese</td>\n      <td>Series</td>\n      <td>8.0</td>\n      <td>Japan</td>\n      <td>&lt; 30 minutes</td>\n      <td>NaN</td>\n      <td>NaN</td>\n      <td>...</td>\n      <td>2019-09-27</td>\n      <td>NaN</td>\n      <td>https://www.netflix.com/watch/81149659</td>\n      <td>https://www.imdb.com/title/tt8254880</td>\n      <td>A closeted fangirl begins dating a coworker an...</td>\n      <td>1623.0</td>\n      <td>https://occ-0-1007-1360.1.nflxso.net/dnm/api/v...</td>\n      <td>https://m.media-amazon.com/images/M/MV5BYjhlZj...</td>\n      <td>NaN</td>\n      <td>NaN</td>\n    </tr>\n    <tr>\n      <th>8752</th>\n      <td>The Job Lot</td>\n      <td>Comedy</td>\n      <td>Comedy Programmes,British Programmes,TV Progra...</td>\n      <td>English</td>\n      <td>Series</td>\n      <td>7.9</td>\n      <td>United Kingdom</td>\n      <td>&lt; 30 minutes</td>\n      <td>NaN</td>\n      <td>NaN</td>\n      <td>...</td>\n      <td>2018-03-31</td>\n      <td>NaN</td>\n      <td>https://www.netflix.com/watch/80989341</td>\n      <td>https://www.imdb.com/title/tt2885556</td>\n      <td>Employees at a dysfunctional British job cente...</td>\n      <td>1368.0</td>\n      <td>https://occ-0-1091-300.1.nflxso.net/dnm/api/v6...</td>\n      <td>https://images-na.ssl-images-amazon.com/images...</td>\n      <td>NaN</td>\n      <td>NaN</td>\n    </tr>\n    <tr>\n      <th>10130</th>\n      <td>Salaakhen</td>\n      <td>Action, Drama</td>\n      <td>Crime Action &amp; Adventure,Action Thrillers,Acti...</td>\n      <td>Hindi</td>\n      <td>Movie</td>\n      <td>7.5</td>\n      <td>Lithuania,India,Australia,United Kingdom,Canad...</td>\n      <td>&gt; 2 hrs</td>\n      <td>Guddu Dhanoa</td>\n      <td>Dilip Shukla</td>\n      <td>...</td>\n      <td>2017-04-01</td>\n      <td>NaN</td>\n      <td>https://www.netflix.com/watch/80158479</td>\n      <td>https://www.imdb.com/title/tt0286936</td>\n      <td>Two close childhood friends take drastically d...</td>\n      <td>403.0</td>\n      <td>https://occ-0-2851-38.1.nflxso.net/dnm/api/v6/...</td>\n      <td>http://ia.media-imdb.com/images/M/MV5BMGYwODg5...</td>\n      <td>NaN</td>\n      <td>NaN</td>\n    </tr>\n    <tr>\n      <th>4860</th>\n      <td>Skylines</td>\n      <td>Crime, Drama, Music</td>\n      <td>German TV Shows,Hip-Hop,TV Dramas,Crime TV Shows</td>\n      <td>NaN</td>\n      <td>Series</td>\n      <td>7.7</td>\n      <td>India,Lithuania,Mexico,Argentina,Brazil,Romani...</td>\n      <td>&lt; 30 minutes</td>\n      <td>NaN</td>\n      <td>Dennis Schanz</td>\n      <td>...</td>\n      <td>2019-09-27</td>\n      <td>NaN</td>\n      <td>https://www.netflix.com/watch/80220715</td>\n      <td>https://www.imdb.com/title/tt9184970</td>\n      <td>A hip-hop producer gets hurled into the violen...</td>\n      <td>2268.0</td>\n      <td>https://occ-0-2851-38.1.nflxso.net/dnm/api/v6/...</td>\n      <td>https://m.media-amazon.com/images/M/MV5BZTJkYz...</td>\n      <td>NaN</td>\n      <td>NaN</td>\n    </tr>\n    <tr>\n      <th>5366</th>\n      <td>Neon Genesis Evangelion</td>\n      <td>Animation, Action, Drama, Fantasy, Sci-Fi, Thr...</td>\n      <td>Cyborg &amp; Robot Anime,Futuristic Sci-Fi,Action ...</td>\n      <td>Japanese, English</td>\n      <td>Series</td>\n      <td>4.2</td>\n      <td>Lithuania,India,Slovakia,Spain,United Kingdom,...</td>\n      <td>&lt; 30 minutes</td>\n      <td>NaN</td>\n      <td>Hideaki Anno</td>\n      <td>...</td>\n      <td>2019-06-21</td>\n      <td>NaN</td>\n      <td>https://www.netflix.com/watch/81033445</td>\n      <td>https://www.imdb.com/title/tt0112159</td>\n      <td>Fifteen years after the Second Impact, Shinji ...</td>\n      <td>50749.0</td>\n      <td>https://occ-0-2851-38.1.nflxso.net/dnm/api/v6/...</td>\n      <td>https://m.media-amazon.com/images/M/MV5BYjY1Y2...</td>\n      <td>NaN</td>\n      <td>NaN</td>\n    </tr>\n    <tr>\n      <th>9766</th>\n      <td>World At Your Feet</td>\n      <td>Drama</td>\n      <td>TV Programmes,TV Dramas,Singaporean Programmes</td>\n      <td>Chinese</td>\n      <td>Series</td>\n      <td>NaN</td>\n      <td>Singapore,Hungary,Lithuania,India,Australia,Un...</td>\n      <td>&lt; 30 minutes</td>\n      <td>NaN</td>\n      <td>NaN</td>\n      <td>...</td>\n      <td>2017-07-01</td>\n      <td>NaN</td>\n      <td>https://www.netflix.com/watch/80160125</td>\n      <td>https://www.imdb.com/title/tt4544590</td>\n      <td>A group of struggling individuals are united b...</td>\n      <td>NaN</td>\n      <td>https://occ-0-2851-38.1.nflxso.net/dnm/api/v6/...</td>\n      <td>NaN</td>\n      <td>NaN</td>\n      <td>NaN</td>\n    </tr>\n    <tr>\n      <th>13310</th>\n      <td>Room 205</td>\n      <td>Horror</td>\n      <td>Horror Films,Scandinavian Films,International ...</td>\n      <td>Danish</td>\n      <td>Movie</td>\n      <td>5.9</td>\n      <td>Lithuania,Poland,France,Italy,Spain,Greece,Cze...</td>\n      <td>1-2 hour</td>\n      <td>Martin Barnewitz</td>\n      <td>Jannik Tai Mosholt</td>\n      <td>...</td>\n      <td>2015-04-14</td>\n      <td>Nordisk Film</td>\n      <td>https://www.netflix.com/watch/70105903</td>\n      <td>https://www.imdb.com/title/tt1003005</td>\n      <td>After moving into a new dorm, a coed begins to...</td>\n      <td>1369.0</td>\n      <td>https://occ-0-38-1501.1.nflxso.net/art/17031/4...</td>\n      <td>http://ia.media-imdb.com/images/M/MV5BMTg5OTMx...</td>\n      <td>NaN</td>\n      <td>NaN</td>\n    </tr>\n  </tbody>\n</table>\n<p>10 rows × 29 columns</p>\n</div>"
     },
     "execution_count": 28,
     "metadata": {},
     "output_type": "execute_result"
    }
   ],
   "source": [
    "df1.sample(10)"
   ],
   "metadata": {
    "collapsed": false,
    "pycharm": {
     "name": "#%%\n"
    }
   }
  },
  {
   "cell_type": "code",
   "execution_count": 29,
   "outputs": [],
   "source": [
    "cols_to_drop = ['Metacritic Score', 'Boxoffice', 'Production House', 'Image', 'Poster', 'TMDb Trailer', 'Trailer Site', 'Netflix Link', 'IMDb Link', 'Rotten Tomatoes Score', 'Awards Received', 'Awards Nominated For']\n",
    "df1.drop(cols_to_drop, axis='columns', inplace=True)"
   ],
   "metadata": {
    "collapsed": false,
    "pycharm": {
     "name": "#%%\n"
    }
   }
  },
  {
   "cell_type": "code",
   "execution_count": 30,
   "outputs": [
    {
     "name": "stdout",
     "output_type": "stream",
     "text": [
      "<class 'pandas.core.frame.DataFrame'>\n",
      "RangeIndex: 15480 entries, 0 to 15479\n",
      "Data columns (total 17 columns):\n",
      " #   Column                Non-Null Count  Dtype  \n",
      "---  ------                --------------  -----  \n",
      " 0   Title                 15480 non-null  object \n",
      " 1   Genre                 13770 non-null  object \n",
      " 2   Tags                  15413 non-null  object \n",
      " 3   Languages             13545 non-null  object \n",
      " 4   Series or Movie       15480 non-null  object \n",
      " 5   Hidden Gem Score      13379 non-null  float64\n",
      " 6   Country Availability  15461 non-null  object \n",
      " 7   Runtime               15479 non-null  object \n",
      " 8   Director              10772 non-null  object \n",
      " 9   Writer                11150 non-null  object \n",
      " 10  Actors                13555 non-null  object \n",
      " 11  View Rating           8456 non-null   object \n",
      " 12  IMDb Score            13381 non-null  float64\n",
      " 13  Release Date          13373 non-null  object \n",
      " 14  Netflix Release Date  15480 non-null  object \n",
      " 15  Summary               15471 non-null  object \n",
      " 16  IMDb Votes            13379 non-null  float64\n",
      "dtypes: float64(3), object(14)\n",
      "memory usage: 2.0+ MB\n"
     ]
    }
   ],
   "source": [
    "df1.info()"
   ],
   "metadata": {
    "collapsed": false,
    "pycharm": {
     "name": "#%%\n"
    }
   }
  },
  {
   "cell_type": "code",
   "execution_count": 31,
   "outputs": [
    {
     "data": {
      "text/plain": "Title                      0\nGenre                   1710\nTags                      67\nLanguages               1935\nSeries or Movie            0\nHidden Gem Score        2101\nCountry Availability      19\nRuntime                    1\nDirector                4708\nWriter                  4330\nActors                  1925\nView Rating             7024\nIMDb Score              2099\nRelease Date            2107\nNetflix Release Date       0\nSummary                    9\nIMDb Votes              2101\ndtype: int64"
     },
     "execution_count": 31,
     "metadata": {},
     "output_type": "execute_result"
    }
   ],
   "source": [
    "df1.isnull().sum()"
   ],
   "metadata": {
    "collapsed": false,
    "pycharm": {
     "name": "#%%\n"
    }
   }
  },
  {
   "cell_type": "code",
   "execution_count": 32,
   "outputs": [
    {
     "data": {
      "text/plain": "       Hidden Gem Score    IMDb Score    IMDb Votes\ncount      13379.000000  13381.000000  1.337900e+04\nmean           5.937551      6.496054  4.272841e+04\nstd            2.250202      1.146910  1.257012e+05\nmin            0.600000      1.000000  5.000000e+00\n25%            3.800000      5.800000  4.035000e+02\n50%            6.800000      6.600000  2.322000e+03\n75%            7.900000      7.300000  2.089050e+04\nmax            9.800000      9.700000  2.354197e+06",
      "text/html": "<div>\n<style scoped>\n    .dataframe tbody tr th:only-of-type {\n        vertical-align: middle;\n    }\n\n    .dataframe tbody tr th {\n        vertical-align: top;\n    }\n\n    .dataframe thead th {\n        text-align: right;\n    }\n</style>\n<table border=\"1\" class=\"dataframe\">\n  <thead>\n    <tr style=\"text-align: right;\">\n      <th></th>\n      <th>Hidden Gem Score</th>\n      <th>IMDb Score</th>\n      <th>IMDb Votes</th>\n    </tr>\n  </thead>\n  <tbody>\n    <tr>\n      <th>count</th>\n      <td>13379.000000</td>\n      <td>13381.000000</td>\n      <td>1.337900e+04</td>\n    </tr>\n    <tr>\n      <th>mean</th>\n      <td>5.937551</td>\n      <td>6.496054</td>\n      <td>4.272841e+04</td>\n    </tr>\n    <tr>\n      <th>std</th>\n      <td>2.250202</td>\n      <td>1.146910</td>\n      <td>1.257012e+05</td>\n    </tr>\n    <tr>\n      <th>min</th>\n      <td>0.600000</td>\n      <td>1.000000</td>\n      <td>5.000000e+00</td>\n    </tr>\n    <tr>\n      <th>25%</th>\n      <td>3.800000</td>\n      <td>5.800000</td>\n      <td>4.035000e+02</td>\n    </tr>\n    <tr>\n      <th>50%</th>\n      <td>6.800000</td>\n      <td>6.600000</td>\n      <td>2.322000e+03</td>\n    </tr>\n    <tr>\n      <th>75%</th>\n      <td>7.900000</td>\n      <td>7.300000</td>\n      <td>2.089050e+04</td>\n    </tr>\n    <tr>\n      <th>max</th>\n      <td>9.800000</td>\n      <td>9.700000</td>\n      <td>2.354197e+06</td>\n    </tr>\n  </tbody>\n</table>\n</div>"
     },
     "execution_count": 32,
     "metadata": {},
     "output_type": "execute_result"
    }
   ],
   "source": [
    "df1.describe()"
   ],
   "metadata": {
    "collapsed": false,
    "pycharm": {
     "name": "#%%\n"
    }
   }
  },
  {
   "cell_type": "code",
   "execution_count": null,
   "outputs": [],
   "source": [],
   "metadata": {
    "collapsed": false,
    "pycharm": {
     "name": "#%%\n"
    }
   }
  }
 ],
 "metadata": {
  "kernelspec": {
   "display_name": "Python 3",
   "language": "python",
   "name": "python3"
  },
  "language_info": {
   "codemirror_mode": {
    "name": "ipython",
    "version": 2
   },
   "file_extension": ".py",
   "mimetype": "text/x-python",
   "name": "python",
   "nbconvert_exporter": "python",
   "pygments_lexer": "ipython2",
   "version": "2.7.6"
  }
 },
 "nbformat": 4,
 "nbformat_minor": 0
}