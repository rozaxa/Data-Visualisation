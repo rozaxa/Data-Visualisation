{
 "cells": [
  {
   "cell_type": "code",
   "execution_count": 57,
   "metadata": {
    "collapsed": true
   },
   "outputs": [],
   "source": [
    "import pandas as pd\n",
    "import numpy as np\n"
   ]
  },
  {
   "cell_type": "code",
   "execution_count": 58,
   "outputs": [],
   "source": [
    "df = pd.read_csv(r'..\\data\\netflix daily top 10.csv')"
   ],
   "metadata": {
    "collapsed": false,
    "pycharm": {
     "name": "#%%\n"
    }
   }
  },
  {
   "cell_type": "code",
   "execution_count": 59,
   "outputs": [
    {
     "name": "stdout",
     "output_type": "stream",
     "text": [
      "<class 'pandas.core.frame.DataFrame'>\n",
      "RangeIndex: 7100 entries, 0 to 7099\n",
      "Data columns (total 10 columns):\n",
      " #   Column                Non-Null Count  Dtype \n",
      "---  ------                --------------  ----- \n",
      " 0   As of                 7100 non-null   object\n",
      " 1   Rank                  7100 non-null   int64 \n",
      " 2   Year to Date Rank     7100 non-null   object\n",
      " 3   Last Week Rank        7100 non-null   object\n",
      " 4   Title                 7100 non-null   object\n",
      " 5   Type                  7100 non-null   object\n",
      " 6   Netflix Exclusive     4599 non-null   object\n",
      " 7   Netflix Release Date  7100 non-null   object\n",
      " 8   Days In Top 10        7100 non-null   int64 \n",
      " 9   Viewership Score      7100 non-null   int64 \n",
      "dtypes: int64(3), object(7)\n",
      "memory usage: 554.8+ KB\n"
     ]
    }
   ],
   "source": [
    "df.info()"
   ],
   "metadata": {
    "collapsed": false,
    "pycharm": {
     "name": "#%%\n"
    }
   }
  },
  {
   "cell_type": "code",
   "execution_count": 60,
   "outputs": [
    {
     "data": {
      "text/plain": "As of                      0\nRank                       0\nYear to Date Rank          0\nLast Week Rank             0\nTitle                      0\nType                       0\nNetflix Exclusive       2501\nNetflix Release Date       0\nDays In Top 10             0\nViewership Score           0\ndtype: int64"
     },
     "execution_count": 60,
     "metadata": {},
     "output_type": "execute_result"
    }
   ],
   "source": [
    "df.isnull().sum()"
   ],
   "metadata": {
    "collapsed": false,
    "pycharm": {
     "name": "#%%\n"
    }
   }
  },
  {
   "cell_type": "code",
   "execution_count": 61,
   "outputs": [],
   "source": [
    "df.Title = df.Title.str.replace('â', '\\'')"
   ],
   "metadata": {
    "collapsed": false,
    "pycharm": {
     "name": "#%%\n"
    }
   }
  },
  {
   "cell_type": "code",
   "execution_count": 62,
   "outputs": [
    {
     "data": {
      "text/plain": "1624    Yes\n3694    NaN\n6483    Yes\n1044    Yes\n5129    Yes\n4263    Yes\n1485    Yes\n732     Yes\n3816    Yes\n134     NaN\nName: Netflix Exclusive, dtype: object"
     },
     "execution_count": 62,
     "metadata": {},
     "output_type": "execute_result"
    }
   ],
   "source": [
    "df['Netflix Exclusive'].sample(10)"
   ],
   "metadata": {
    "collapsed": false,
    "pycharm": {
     "name": "#%%\n"
    }
   }
  },
  {
   "cell_type": "code",
   "execution_count": 63,
   "outputs": [],
   "source": [
    "df['Netflix Exclusive'].replace(np.NaN, 'No', inplace=True)"
   ],
   "metadata": {
    "collapsed": false,
    "pycharm": {
     "name": "#%%\n"
    }
   }
  },
  {
   "cell_type": "code",
   "execution_count": 64,
   "outputs": [
    {
     "data": {
      "text/plain": "           As of  Rank Year to Date Rank Last Week Rank  \\\n822   2020-06-22     3                 3              -   \n2160  2020-11-03     1                 2              1   \n6657  2022-01-26     8                10              -   \n2889  2021-01-14    10                 7              -   \n2591  2020-12-16     2                 2              -   \n2223  2020-11-09     4                 5              -   \n437   2020-05-14     8                 4              -   \n5795  2021-11-01     6                 8              3   \n2585  2020-12-15     6                 2              -   \n400   2020-05-11     1                 1              -   \n\n                        Title     Type Netflix Exclusive Netflix Release Date  \\\n822                 The Order  TV Show               Yes          Mar 7, 2019   \n2160       The Queen's Gambit  TV Show               Yes         Oct 23, 2020   \n6657  Munich: The Edge of War    Movie               Yes         Jan 21, 2022   \n2889          Surviving Death  TV Show               Yes          Jan 6, 2021   \n2591    Manhunt: Deadly Games  TV Show                No          Dec 7, 2020   \n2223                  Mile 22    Movie                No          Nov 1, 2020   \n437                 Sleepless    Movie                No          May 9, 2020   \n5795              Locke & Key  TV Show               Yes          Feb 7, 2020   \n2585                 The Prom    Movie               Yes         Dec 11, 2020   \n400                Dead to Me  TV Show               Yes          May 3, 2019   \n\n      Days In Top 10  Viewership Score  \n822                4                32  \n2160              11                96  \n6657               2                 4  \n2889               7                31  \n2591               7                55  \n2223               6                40  \n437                6                37  \n5795              10                65  \n2585               4                29  \n400                3                30  ",
      "text/html": "<div>\n<style scoped>\n    .dataframe tbody tr th:only-of-type {\n        vertical-align: middle;\n    }\n\n    .dataframe tbody tr th {\n        vertical-align: top;\n    }\n\n    .dataframe thead th {\n        text-align: right;\n    }\n</style>\n<table border=\"1\" class=\"dataframe\">\n  <thead>\n    <tr style=\"text-align: right;\">\n      <th></th>\n      <th>As of</th>\n      <th>Rank</th>\n      <th>Year to Date Rank</th>\n      <th>Last Week Rank</th>\n      <th>Title</th>\n      <th>Type</th>\n      <th>Netflix Exclusive</th>\n      <th>Netflix Release Date</th>\n      <th>Days In Top 10</th>\n      <th>Viewership Score</th>\n    </tr>\n  </thead>\n  <tbody>\n    <tr>\n      <th>822</th>\n      <td>2020-06-22</td>\n      <td>3</td>\n      <td>3</td>\n      <td>-</td>\n      <td>The Order</td>\n      <td>TV Show</td>\n      <td>Yes</td>\n      <td>Mar 7, 2019</td>\n      <td>4</td>\n      <td>32</td>\n    </tr>\n    <tr>\n      <th>2160</th>\n      <td>2020-11-03</td>\n      <td>1</td>\n      <td>2</td>\n      <td>1</td>\n      <td>The Queen's Gambit</td>\n      <td>TV Show</td>\n      <td>Yes</td>\n      <td>Oct 23, 2020</td>\n      <td>11</td>\n      <td>96</td>\n    </tr>\n    <tr>\n      <th>6657</th>\n      <td>2022-01-26</td>\n      <td>8</td>\n      <td>10</td>\n      <td>-</td>\n      <td>Munich: The Edge of War</td>\n      <td>Movie</td>\n      <td>Yes</td>\n      <td>Jan 21, 2022</td>\n      <td>2</td>\n      <td>4</td>\n    </tr>\n    <tr>\n      <th>2889</th>\n      <td>2021-01-14</td>\n      <td>10</td>\n      <td>7</td>\n      <td>-</td>\n      <td>Surviving Death</td>\n      <td>TV Show</td>\n      <td>Yes</td>\n      <td>Jan 6, 2021</td>\n      <td>7</td>\n      <td>31</td>\n    </tr>\n    <tr>\n      <th>2591</th>\n      <td>2020-12-16</td>\n      <td>2</td>\n      <td>2</td>\n      <td>-</td>\n      <td>Manhunt: Deadly Games</td>\n      <td>TV Show</td>\n      <td>No</td>\n      <td>Dec 7, 2020</td>\n      <td>7</td>\n      <td>55</td>\n    </tr>\n    <tr>\n      <th>2223</th>\n      <td>2020-11-09</td>\n      <td>4</td>\n      <td>5</td>\n      <td>-</td>\n      <td>Mile 22</td>\n      <td>Movie</td>\n      <td>No</td>\n      <td>Nov 1, 2020</td>\n      <td>6</td>\n      <td>40</td>\n    </tr>\n    <tr>\n      <th>437</th>\n      <td>2020-05-14</td>\n      <td>8</td>\n      <td>4</td>\n      <td>-</td>\n      <td>Sleepless</td>\n      <td>Movie</td>\n      <td>No</td>\n      <td>May 9, 2020</td>\n      <td>6</td>\n      <td>37</td>\n    </tr>\n    <tr>\n      <th>5795</th>\n      <td>2021-11-01</td>\n      <td>6</td>\n      <td>8</td>\n      <td>3</td>\n      <td>Locke &amp; Key</td>\n      <td>TV Show</td>\n      <td>Yes</td>\n      <td>Feb 7, 2020</td>\n      <td>10</td>\n      <td>65</td>\n    </tr>\n    <tr>\n      <th>2585</th>\n      <td>2020-12-15</td>\n      <td>6</td>\n      <td>2</td>\n      <td>-</td>\n      <td>The Prom</td>\n      <td>Movie</td>\n      <td>Yes</td>\n      <td>Dec 11, 2020</td>\n      <td>4</td>\n      <td>29</td>\n    </tr>\n    <tr>\n      <th>400</th>\n      <td>2020-05-11</td>\n      <td>1</td>\n      <td>1</td>\n      <td>-</td>\n      <td>Dead to Me</td>\n      <td>TV Show</td>\n      <td>Yes</td>\n      <td>May 3, 2019</td>\n      <td>3</td>\n      <td>30</td>\n    </tr>\n  </tbody>\n</table>\n</div>"
     },
     "execution_count": 64,
     "metadata": {},
     "output_type": "execute_result"
    }
   ],
   "source": [
    "df.sample(10)"
   ],
   "metadata": {
    "collapsed": false,
    "pycharm": {
     "name": "#%%\n"
    }
   }
  },
  {
   "cell_type": "code",
   "execution_count": 65,
   "outputs": [],
   "source": [
    "df['Last Week Rank'].replace('-', '0', inplace=True)\n",
    "df['Year to Date Rank'].replace('-', '0', inplace=True)"
   ],
   "metadata": {
    "collapsed": false,
    "pycharm": {
     "name": "#%%\n"
    }
   }
  },
  {
   "cell_type": "code",
   "execution_count": 66,
   "outputs": [
    {
     "data": {
      "text/plain": "368     0\n4973    0\n1277    0\n5552    0\n4551    0\n3774    0\n4745    2\n5469    3\n906     4\n954     0\nName: Last Week Rank, dtype: object"
     },
     "execution_count": 66,
     "metadata": {},
     "output_type": "execute_result"
    }
   ],
   "source": [
    "df['Last Week Rank'].sample(10)"
   ],
   "metadata": {
    "collapsed": false,
    "pycharm": {
     "name": "#%%\n"
    }
   }
  },
  {
   "cell_type": "code",
   "execution_count": 67,
   "outputs": [],
   "source": [
    "df['Year to Date Rank'] = pd.to_numeric(df['Year to Date Rank'], errors='coerce')\n",
    "df['Last Week Rank'] = pd.to_numeric(df['Last Week Rank'], errors='coerce')"
   ],
   "metadata": {
    "collapsed": false,
    "pycharm": {
     "name": "#%%\n"
    }
   }
  },
  {
   "cell_type": "code",
   "execution_count": 68,
   "outputs": [
    {
     "name": "stdout",
     "output_type": "stream",
     "text": [
      "<class 'pandas.core.frame.DataFrame'>\n",
      "RangeIndex: 7100 entries, 0 to 7099\n",
      "Data columns (total 10 columns):\n",
      " #   Column                Non-Null Count  Dtype \n",
      "---  ------                --------------  ----- \n",
      " 0   As of                 7100 non-null   object\n",
      " 1   Rank                  7100 non-null   int64 \n",
      " 2   Year to Date Rank     7100 non-null   int64 \n",
      " 3   Last Week Rank        7100 non-null   int64 \n",
      " 4   Title                 7100 non-null   object\n",
      " 5   Type                  7100 non-null   object\n",
      " 6   Netflix Exclusive     7100 non-null   object\n",
      " 7   Netflix Release Date  7100 non-null   object\n",
      " 8   Days In Top 10        7100 non-null   int64 \n",
      " 9   Viewership Score      7100 non-null   int64 \n",
      "dtypes: int64(5), object(5)\n",
      "memory usage: 554.8+ KB\n"
     ]
    }
   ],
   "source": [
    "df.info()"
   ],
   "metadata": {
    "collapsed": false,
    "pycharm": {
     "name": "#%%\n"
    }
   }
  },
  {
   "cell_type": "code",
   "execution_count": 69,
   "outputs": [
    {
     "name": "stdout",
     "output_type": "stream",
     "text": [
      "<class 'pandas.core.frame.DataFrame'>\n",
      "RangeIndex: 7100 entries, 0 to 7099\n",
      "Data columns (total 10 columns):\n",
      " #   Column                Non-Null Count  Dtype \n",
      "---  ------                --------------  ----- \n",
      " 0   As of                 7100 non-null   object\n",
      " 1   Rank                  7100 non-null   int64 \n",
      " 2   Year to Date Rank     7100 non-null   int64 \n",
      " 3   Last Week Rank        7100 non-null   int64 \n",
      " 4   Title                 7100 non-null   object\n",
      " 5   Type                  7100 non-null   object\n",
      " 6   Netflix Exclusive     7100 non-null   object\n",
      " 7   Netflix Release Date  7100 non-null   object\n",
      " 8   Days In Top 10        7100 non-null   int64 \n",
      " 9   Viewership Score      7100 non-null   int64 \n",
      "dtypes: int64(5), object(5)\n",
      "memory usage: 554.8+ KB\n"
     ]
    }
   ],
   "source": [
    "df.info()"
   ],
   "metadata": {
    "collapsed": false,
    "pycharm": {
     "name": "#%%\n"
    }
   }
  },
  {
   "cell_type": "code",
   "execution_count": 70,
   "outputs": [
    {
     "data": {
      "text/plain": "              Rank  Year to Date Rank  Last Week Rank  Days In Top 10  \\\ncount  7100.000000        7100.000000     7100.000000     7100.000000   \nmean      5.500000           4.439296        1.737324       24.123662   \nstd       2.872484           3.041267        2.620020       58.473789   \nmin       1.000000           0.000000        0.000000        1.000000   \n25%       3.000000           2.000000        0.000000        3.000000   \n50%       5.500000           4.000000        0.000000        7.000000   \n75%       8.000000           7.000000        3.000000       18.000000   \nmax      10.000000          10.000000       10.000000      428.000000   \n\n       Viewership Score  \ncount       7100.000000  \nmean         122.790141  \nstd          213.861642  \nmin            1.000000  \n25%           19.000000  \n50%           50.000000  \n75%          128.000000  \nmax         1474.000000  ",
      "text/html": "<div>\n<style scoped>\n    .dataframe tbody tr th:only-of-type {\n        vertical-align: middle;\n    }\n\n    .dataframe tbody tr th {\n        vertical-align: top;\n    }\n\n    .dataframe thead th {\n        text-align: right;\n    }\n</style>\n<table border=\"1\" class=\"dataframe\">\n  <thead>\n    <tr style=\"text-align: right;\">\n      <th></th>\n      <th>Rank</th>\n      <th>Year to Date Rank</th>\n      <th>Last Week Rank</th>\n      <th>Days In Top 10</th>\n      <th>Viewership Score</th>\n    </tr>\n  </thead>\n  <tbody>\n    <tr>\n      <th>count</th>\n      <td>7100.000000</td>\n      <td>7100.000000</td>\n      <td>7100.000000</td>\n      <td>7100.000000</td>\n      <td>7100.000000</td>\n    </tr>\n    <tr>\n      <th>mean</th>\n      <td>5.500000</td>\n      <td>4.439296</td>\n      <td>1.737324</td>\n      <td>24.123662</td>\n      <td>122.790141</td>\n    </tr>\n    <tr>\n      <th>std</th>\n      <td>2.872484</td>\n      <td>3.041267</td>\n      <td>2.620020</td>\n      <td>58.473789</td>\n      <td>213.861642</td>\n    </tr>\n    <tr>\n      <th>min</th>\n      <td>1.000000</td>\n      <td>0.000000</td>\n      <td>0.000000</td>\n      <td>1.000000</td>\n      <td>1.000000</td>\n    </tr>\n    <tr>\n      <th>25%</th>\n      <td>3.000000</td>\n      <td>2.000000</td>\n      <td>0.000000</td>\n      <td>3.000000</td>\n      <td>19.000000</td>\n    </tr>\n    <tr>\n      <th>50%</th>\n      <td>5.500000</td>\n      <td>4.000000</td>\n      <td>0.000000</td>\n      <td>7.000000</td>\n      <td>50.000000</td>\n    </tr>\n    <tr>\n      <th>75%</th>\n      <td>8.000000</td>\n      <td>7.000000</td>\n      <td>3.000000</td>\n      <td>18.000000</td>\n      <td>128.000000</td>\n    </tr>\n    <tr>\n      <th>max</th>\n      <td>10.000000</td>\n      <td>10.000000</td>\n      <td>10.000000</td>\n      <td>428.000000</td>\n      <td>1474.000000</td>\n    </tr>\n  </tbody>\n</table>\n</div>"
     },
     "execution_count": 70,
     "metadata": {},
     "output_type": "execute_result"
    }
   ],
   "source": [
    "df.describe()"
   ],
   "metadata": {
    "collapsed": false,
    "pycharm": {
     "name": "#%%\n"
    }
   }
  },
  {
   "cell_type": "code",
   "execution_count": 71,
   "outputs": [
    {
     "data": {
      "text/plain": "           As of  Rank  Year to Date Rank  Last Week Rank               Title  \\\n2569  2020-12-13    10                  9               8  The Queen's Gambit   \n2577  2020-12-14     8                 10               7  The Queen's Gambit   \n2588  2020-12-15     9                  8               6  The Queen's Gambit   \n2598  2020-12-16     9                  9               6  The Queen's Gambit   \n2608  2020-12-17     9                  9               7  The Queen's Gambit   \n...          ...   ...                ...             ...                 ...   \n6954  2022-02-25     5                  5               5               Ozark   \n6967  2022-02-26     8                  5               8               Ozark   \n6979  2022-02-27    10                  8               7               Ozark   \n6986  2022-02-28     7                 10               7               Ozark   \n6996  2022-03-01     7                  7               8               Ozark   \n\n         Type Netflix Exclusive Netflix Release Date  Days In Top 10  \\\n2569  TV Show               Yes         Oct 23, 2020              51   \n2577  TV Show               Yes         Oct 23, 2020              52   \n2588  TV Show               Yes         Oct 23, 2020              53   \n2598  TV Show               Yes         Oct 23, 2020              54   \n2608  TV Show               Yes         Oct 23, 2020              55   \n...       ...               ...                  ...             ...   \n6954  TV Show               Yes         Jul 21, 2017              85   \n6967  TV Show               Yes         Jul 21, 2017              86   \n6979  TV Show               Yes         Jul 21, 2017              87   \n6986  TV Show               Yes         Jul 21, 2017              88   \n6996  TV Show               Yes         Jul 21, 2017              89   \n\n      Viewership Score  \n2569               392  \n2577               395  \n2588               397  \n2598               399  \n2608               401  \n...                ...  \n6954               524  \n6967               527  \n6979               528  \n6986               532  \n6996               536  \n\n[197 rows x 10 columns]",
      "text/html": "<div>\n<style scoped>\n    .dataframe tbody tr th:only-of-type {\n        vertical-align: middle;\n    }\n\n    .dataframe tbody tr th {\n        vertical-align: top;\n    }\n\n    .dataframe thead th {\n        text-align: right;\n    }\n</style>\n<table border=\"1\" class=\"dataframe\">\n  <thead>\n    <tr style=\"text-align: right;\">\n      <th></th>\n      <th>As of</th>\n      <th>Rank</th>\n      <th>Year to Date Rank</th>\n      <th>Last Week Rank</th>\n      <th>Title</th>\n      <th>Type</th>\n      <th>Netflix Exclusive</th>\n      <th>Netflix Release Date</th>\n      <th>Days In Top 10</th>\n      <th>Viewership Score</th>\n    </tr>\n  </thead>\n  <tbody>\n    <tr>\n      <th>2569</th>\n      <td>2020-12-13</td>\n      <td>10</td>\n      <td>9</td>\n      <td>8</td>\n      <td>The Queen's Gambit</td>\n      <td>TV Show</td>\n      <td>Yes</td>\n      <td>Oct 23, 2020</td>\n      <td>51</td>\n      <td>392</td>\n    </tr>\n    <tr>\n      <th>2577</th>\n      <td>2020-12-14</td>\n      <td>8</td>\n      <td>10</td>\n      <td>7</td>\n      <td>The Queen's Gambit</td>\n      <td>TV Show</td>\n      <td>Yes</td>\n      <td>Oct 23, 2020</td>\n      <td>52</td>\n      <td>395</td>\n    </tr>\n    <tr>\n      <th>2588</th>\n      <td>2020-12-15</td>\n      <td>9</td>\n      <td>8</td>\n      <td>6</td>\n      <td>The Queen's Gambit</td>\n      <td>TV Show</td>\n      <td>Yes</td>\n      <td>Oct 23, 2020</td>\n      <td>53</td>\n      <td>397</td>\n    </tr>\n    <tr>\n      <th>2598</th>\n      <td>2020-12-16</td>\n      <td>9</td>\n      <td>9</td>\n      <td>6</td>\n      <td>The Queen's Gambit</td>\n      <td>TV Show</td>\n      <td>Yes</td>\n      <td>Oct 23, 2020</td>\n      <td>54</td>\n      <td>399</td>\n    </tr>\n    <tr>\n      <th>2608</th>\n      <td>2020-12-17</td>\n      <td>9</td>\n      <td>9</td>\n      <td>7</td>\n      <td>The Queen's Gambit</td>\n      <td>TV Show</td>\n      <td>Yes</td>\n      <td>Oct 23, 2020</td>\n      <td>55</td>\n      <td>401</td>\n    </tr>\n    <tr>\n      <th>...</th>\n      <td>...</td>\n      <td>...</td>\n      <td>...</td>\n      <td>...</td>\n      <td>...</td>\n      <td>...</td>\n      <td>...</td>\n      <td>...</td>\n      <td>...</td>\n      <td>...</td>\n    </tr>\n    <tr>\n      <th>6954</th>\n      <td>2022-02-25</td>\n      <td>5</td>\n      <td>5</td>\n      <td>5</td>\n      <td>Ozark</td>\n      <td>TV Show</td>\n      <td>Yes</td>\n      <td>Jul 21, 2017</td>\n      <td>85</td>\n      <td>524</td>\n    </tr>\n    <tr>\n      <th>6967</th>\n      <td>2022-02-26</td>\n      <td>8</td>\n      <td>5</td>\n      <td>8</td>\n      <td>Ozark</td>\n      <td>TV Show</td>\n      <td>Yes</td>\n      <td>Jul 21, 2017</td>\n      <td>86</td>\n      <td>527</td>\n    </tr>\n    <tr>\n      <th>6979</th>\n      <td>2022-02-27</td>\n      <td>10</td>\n      <td>8</td>\n      <td>7</td>\n      <td>Ozark</td>\n      <td>TV Show</td>\n      <td>Yes</td>\n      <td>Jul 21, 2017</td>\n      <td>87</td>\n      <td>528</td>\n    </tr>\n    <tr>\n      <th>6986</th>\n      <td>2022-02-28</td>\n      <td>7</td>\n      <td>10</td>\n      <td>7</td>\n      <td>Ozark</td>\n      <td>TV Show</td>\n      <td>Yes</td>\n      <td>Jul 21, 2017</td>\n      <td>88</td>\n      <td>532</td>\n    </tr>\n    <tr>\n      <th>6996</th>\n      <td>2022-03-01</td>\n      <td>7</td>\n      <td>7</td>\n      <td>8</td>\n      <td>Ozark</td>\n      <td>TV Show</td>\n      <td>Yes</td>\n      <td>Jul 21, 2017</td>\n      <td>89</td>\n      <td>536</td>\n    </tr>\n  </tbody>\n</table>\n<p>197 rows × 10 columns</p>\n</div>"
     },
     "execution_count": 71,
     "metadata": {},
     "output_type": "execute_result"
    }
   ],
   "source": [
    "df[(df['Days In Top 10'] > 50) & (df['Title'] != 'Cocomelon')]"
   ],
   "metadata": {
    "collapsed": false,
    "pycharm": {
     "name": "#%%\n"
    }
   }
  },
  {
   "cell_type": "code",
   "execution_count": 72,
   "outputs": [
    {
     "data": {
      "text/plain": "array(['TV Show', 'Movie', 'Stand-Up Comedy', 'Concert/Perf…'],\n      dtype=object)"
     },
     "execution_count": 72,
     "metadata": {},
     "output_type": "execute_result"
    }
   ],
   "source": [
    "df['Type'].unique()"
   ],
   "metadata": {
    "collapsed": false,
    "pycharm": {
     "name": "#%%\n"
    }
   }
  },
  {
   "cell_type": "code",
   "execution_count": 73,
   "outputs": [],
   "source": [
    "df.replace('Stand-Up Comedy', 'TV Show', inplace=True)\n",
    "df.replace('Concert/Perf…', 'TV Show', inplace=True)"
   ],
   "metadata": {
    "collapsed": false,
    "pycharm": {
     "name": "#%%\n"
    }
   }
  },
  {
   "cell_type": "code",
   "execution_count": 74,
   "outputs": [
    {
     "data": {
      "text/plain": "array(['TV Show', 'Movie'], dtype=object)"
     },
     "execution_count": 74,
     "metadata": {},
     "output_type": "execute_result"
    }
   ],
   "source": [
    "df.Type.unique()"
   ],
   "metadata": {
    "collapsed": false,
    "pycharm": {
     "name": "#%%\n"
    }
   }
  },
  {
   "cell_type": "code",
   "execution_count": 75,
   "outputs": [],
   "source": [
    "df1 = df.copy()"
   ],
   "metadata": {
    "collapsed": false,
    "pycharm": {
     "name": "#%%\n"
    }
   }
  },
  {
   "cell_type": "code",
   "execution_count": 76,
   "outputs": [
    {
     "data": {
      "text/plain": "           As of  Rank  Year to Date Rank  Last Week Rank      Title     Type  \\\n6998  2022-03-01     9                  0               0  Cocomelon  TV Show   \n6959  2022-02-25    10                  0               0  Cocomelon  TV Show   \n6718  2022-02-01     9                  0               7  Cocomelon  TV Show   \n6687  2022-01-29     8                  5               8  Cocomelon  TV Show   \n6674  2022-01-28     5                  6               0  Cocomelon  TV Show   \n6665  2022-01-27     6                  6               0  Cocomelon  TV Show   \n6655  2022-01-26     6                  7               0  Cocomelon  TV Show   \n6646  2022-01-25     7                 10               0  Cocomelon  TV Show   \n6639  2022-01-24    10                  0               0  Cocomelon  TV Show   \n6617  2022-01-22     8                  0              10  Cocomelon  TV Show   \n\n     Netflix Exclusive Netflix Release Date  Days In Top 10  Viewership Score  \n6998                No          Jun 1, 2020             428              1474  \n6959                No          Jun 1, 2020             427              1472  \n6718                No          Jun 1, 2020             426              1471  \n6687                No          Jun 1, 2020             425              1469  \n6674                No          Jun 1, 2020             424              1466  \n6665                No          Jun 1, 2020             423              1460  \n6655                No          Jun 1, 2020             422              1455  \n6646                No          Jun 1, 2020             421              1450  \n6639                No          Jun 1, 2020             420              1446  \n6617                No          Jun 1, 2020             419              1445  ",
      "text/html": "<div>\n<style scoped>\n    .dataframe tbody tr th:only-of-type {\n        vertical-align: middle;\n    }\n\n    .dataframe tbody tr th {\n        vertical-align: top;\n    }\n\n    .dataframe thead th {\n        text-align: right;\n    }\n</style>\n<table border=\"1\" class=\"dataframe\">\n  <thead>\n    <tr style=\"text-align: right;\">\n      <th></th>\n      <th>As of</th>\n      <th>Rank</th>\n      <th>Year to Date Rank</th>\n      <th>Last Week Rank</th>\n      <th>Title</th>\n      <th>Type</th>\n      <th>Netflix Exclusive</th>\n      <th>Netflix Release Date</th>\n      <th>Days In Top 10</th>\n      <th>Viewership Score</th>\n    </tr>\n  </thead>\n  <tbody>\n    <tr>\n      <th>6998</th>\n      <td>2022-03-01</td>\n      <td>9</td>\n      <td>0</td>\n      <td>0</td>\n      <td>Cocomelon</td>\n      <td>TV Show</td>\n      <td>No</td>\n      <td>Jun 1, 2020</td>\n      <td>428</td>\n      <td>1474</td>\n    </tr>\n    <tr>\n      <th>6959</th>\n      <td>2022-02-25</td>\n      <td>10</td>\n      <td>0</td>\n      <td>0</td>\n      <td>Cocomelon</td>\n      <td>TV Show</td>\n      <td>No</td>\n      <td>Jun 1, 2020</td>\n      <td>427</td>\n      <td>1472</td>\n    </tr>\n    <tr>\n      <th>6718</th>\n      <td>2022-02-01</td>\n      <td>9</td>\n      <td>0</td>\n      <td>7</td>\n      <td>Cocomelon</td>\n      <td>TV Show</td>\n      <td>No</td>\n      <td>Jun 1, 2020</td>\n      <td>426</td>\n      <td>1471</td>\n    </tr>\n    <tr>\n      <th>6687</th>\n      <td>2022-01-29</td>\n      <td>8</td>\n      <td>5</td>\n      <td>8</td>\n      <td>Cocomelon</td>\n      <td>TV Show</td>\n      <td>No</td>\n      <td>Jun 1, 2020</td>\n      <td>425</td>\n      <td>1469</td>\n    </tr>\n    <tr>\n      <th>6674</th>\n      <td>2022-01-28</td>\n      <td>5</td>\n      <td>6</td>\n      <td>0</td>\n      <td>Cocomelon</td>\n      <td>TV Show</td>\n      <td>No</td>\n      <td>Jun 1, 2020</td>\n      <td>424</td>\n      <td>1466</td>\n    </tr>\n    <tr>\n      <th>6665</th>\n      <td>2022-01-27</td>\n      <td>6</td>\n      <td>6</td>\n      <td>0</td>\n      <td>Cocomelon</td>\n      <td>TV Show</td>\n      <td>No</td>\n      <td>Jun 1, 2020</td>\n      <td>423</td>\n      <td>1460</td>\n    </tr>\n    <tr>\n      <th>6655</th>\n      <td>2022-01-26</td>\n      <td>6</td>\n      <td>7</td>\n      <td>0</td>\n      <td>Cocomelon</td>\n      <td>TV Show</td>\n      <td>No</td>\n      <td>Jun 1, 2020</td>\n      <td>422</td>\n      <td>1455</td>\n    </tr>\n    <tr>\n      <th>6646</th>\n      <td>2022-01-25</td>\n      <td>7</td>\n      <td>10</td>\n      <td>0</td>\n      <td>Cocomelon</td>\n      <td>TV Show</td>\n      <td>No</td>\n      <td>Jun 1, 2020</td>\n      <td>421</td>\n      <td>1450</td>\n    </tr>\n    <tr>\n      <th>6639</th>\n      <td>2022-01-24</td>\n      <td>10</td>\n      <td>0</td>\n      <td>0</td>\n      <td>Cocomelon</td>\n      <td>TV Show</td>\n      <td>No</td>\n      <td>Jun 1, 2020</td>\n      <td>420</td>\n      <td>1446</td>\n    </tr>\n    <tr>\n      <th>6617</th>\n      <td>2022-01-22</td>\n      <td>8</td>\n      <td>0</td>\n      <td>10</td>\n      <td>Cocomelon</td>\n      <td>TV Show</td>\n      <td>No</td>\n      <td>Jun 1, 2020</td>\n      <td>419</td>\n      <td>1445</td>\n    </tr>\n  </tbody>\n</table>\n</div>"
     },
     "execution_count": 76,
     "metadata": {},
     "output_type": "execute_result"
    }
   ],
   "source": [
    "df1.sort_values(by='Days In Top 10', ascending=False, inplace=True)\n",
    "df1.head(10)"
   ],
   "metadata": {
    "collapsed": false,
    "pycharm": {
     "name": "#%%\n"
    }
   }
  },
  {
   "cell_type": "code",
   "execution_count": 77,
   "outputs": [
    {
     "data": {
      "text/plain": "           As of  Rank  Year to Date Rank  Last Week Rank               Title  \\\n6998  2022-03-01     9                  0               0           Cocomelon   \n6996  2022-03-01     7                  7               8               Ozark   \n6678  2022-01-28     9                  7               5           Cobra Kai   \n5347  2021-09-17     8                  7               6            Manifest   \n2809  2021-01-06    10                  9               6  The Queen's Gambit   \n\n         Type Netflix Exclusive Netflix Release Date  Days In Top 10  \\\n6998  TV Show                No          Jun 1, 2020             428   \n6996  TV Show               Yes         Jul 21, 2017              89   \n6678  TV Show                No         Aug 28, 2020              81   \n5347  TV Show                No         Jun 10, 2021              80   \n2809  TV Show               Yes         Oct 23, 2020              73   \n\n      Viewership Score  \n6998              1474  \n6996               536  \n6678               582  \n5347               590  \n2809               446  ",
      "text/html": "<div>\n<style scoped>\n    .dataframe tbody tr th:only-of-type {\n        vertical-align: middle;\n    }\n\n    .dataframe tbody tr th {\n        vertical-align: top;\n    }\n\n    .dataframe thead th {\n        text-align: right;\n    }\n</style>\n<table border=\"1\" class=\"dataframe\">\n  <thead>\n    <tr style=\"text-align: right;\">\n      <th></th>\n      <th>As of</th>\n      <th>Rank</th>\n      <th>Year to Date Rank</th>\n      <th>Last Week Rank</th>\n      <th>Title</th>\n      <th>Type</th>\n      <th>Netflix Exclusive</th>\n      <th>Netflix Release Date</th>\n      <th>Days In Top 10</th>\n      <th>Viewership Score</th>\n    </tr>\n  </thead>\n  <tbody>\n    <tr>\n      <th>6998</th>\n      <td>2022-03-01</td>\n      <td>9</td>\n      <td>0</td>\n      <td>0</td>\n      <td>Cocomelon</td>\n      <td>TV Show</td>\n      <td>No</td>\n      <td>Jun 1, 2020</td>\n      <td>428</td>\n      <td>1474</td>\n    </tr>\n    <tr>\n      <th>6996</th>\n      <td>2022-03-01</td>\n      <td>7</td>\n      <td>7</td>\n      <td>8</td>\n      <td>Ozark</td>\n      <td>TV Show</td>\n      <td>Yes</td>\n      <td>Jul 21, 2017</td>\n      <td>89</td>\n      <td>536</td>\n    </tr>\n    <tr>\n      <th>6678</th>\n      <td>2022-01-28</td>\n      <td>9</td>\n      <td>7</td>\n      <td>5</td>\n      <td>Cobra Kai</td>\n      <td>TV Show</td>\n      <td>No</td>\n      <td>Aug 28, 2020</td>\n      <td>81</td>\n      <td>582</td>\n    </tr>\n    <tr>\n      <th>5347</th>\n      <td>2021-09-17</td>\n      <td>8</td>\n      <td>7</td>\n      <td>6</td>\n      <td>Manifest</td>\n      <td>TV Show</td>\n      <td>No</td>\n      <td>Jun 10, 2021</td>\n      <td>80</td>\n      <td>590</td>\n    </tr>\n    <tr>\n      <th>2809</th>\n      <td>2021-01-06</td>\n      <td>10</td>\n      <td>9</td>\n      <td>6</td>\n      <td>The Queen's Gambit</td>\n      <td>TV Show</td>\n      <td>Yes</td>\n      <td>Oct 23, 2020</td>\n      <td>73</td>\n      <td>446</td>\n    </tr>\n  </tbody>\n</table>\n</div>"
     },
     "execution_count": 77,
     "metadata": {},
     "output_type": "execute_result"
    }
   ],
   "source": [
    "df1['Title'] = df1['Title'].drop_duplicates(keep='first')\n",
    "df1 = df1.dropna()\n",
    "df1.head()"
   ],
   "metadata": {
    "collapsed": false,
    "pycharm": {
     "name": "#%%\n"
    }
   }
  },
  {
   "cell_type": "code",
   "execution_count": 78,
   "outputs": [],
   "source": [
    "df1.Title=df1.Title.str.replace('â', '\\'')"
   ],
   "metadata": {
    "collapsed": false,
    "pycharm": {
     "name": "#%%\n"
    }
   }
  },
  {
   "cell_type": "code",
   "execution_count": 79,
   "outputs": [
    {
     "data": {
      "text/plain": "           As of  Rank  Year to Date Rank  Last Week Rank               Title  \\\n6998  2022-03-01     9                  0               0           Cocomelon   \n6996  2022-03-01     7                  7               8               Ozark   \n6678  2022-01-28     9                  7               5           Cobra Kai   \n5347  2021-09-17     8                  7               6            Manifest   \n2809  2021-01-06    10                  9               6  The Queen's Gambit   \n\n         Type Netflix Exclusive Netflix Release Date  Days In Top 10  \\\n6998  TV Show                No          Jun 1, 2020             428   \n6996  TV Show               Yes         Jul 21, 2017              89   \n6678  TV Show                No         Aug 28, 2020              81   \n5347  TV Show                No         Jun 10, 2021              80   \n2809  TV Show               Yes         Oct 23, 2020              73   \n\n      Viewership Score  \n6998              1474  \n6996               536  \n6678               582  \n5347               590  \n2809               446  ",
      "text/html": "<div>\n<style scoped>\n    .dataframe tbody tr th:only-of-type {\n        vertical-align: middle;\n    }\n\n    .dataframe tbody tr th {\n        vertical-align: top;\n    }\n\n    .dataframe thead th {\n        text-align: right;\n    }\n</style>\n<table border=\"1\" class=\"dataframe\">\n  <thead>\n    <tr style=\"text-align: right;\">\n      <th></th>\n      <th>As of</th>\n      <th>Rank</th>\n      <th>Year to Date Rank</th>\n      <th>Last Week Rank</th>\n      <th>Title</th>\n      <th>Type</th>\n      <th>Netflix Exclusive</th>\n      <th>Netflix Release Date</th>\n      <th>Days In Top 10</th>\n      <th>Viewership Score</th>\n    </tr>\n  </thead>\n  <tbody>\n    <tr>\n      <th>6998</th>\n      <td>2022-03-01</td>\n      <td>9</td>\n      <td>0</td>\n      <td>0</td>\n      <td>Cocomelon</td>\n      <td>TV Show</td>\n      <td>No</td>\n      <td>Jun 1, 2020</td>\n      <td>428</td>\n      <td>1474</td>\n    </tr>\n    <tr>\n      <th>6996</th>\n      <td>2022-03-01</td>\n      <td>7</td>\n      <td>7</td>\n      <td>8</td>\n      <td>Ozark</td>\n      <td>TV Show</td>\n      <td>Yes</td>\n      <td>Jul 21, 2017</td>\n      <td>89</td>\n      <td>536</td>\n    </tr>\n    <tr>\n      <th>6678</th>\n      <td>2022-01-28</td>\n      <td>9</td>\n      <td>7</td>\n      <td>5</td>\n      <td>Cobra Kai</td>\n      <td>TV Show</td>\n      <td>No</td>\n      <td>Aug 28, 2020</td>\n      <td>81</td>\n      <td>582</td>\n    </tr>\n    <tr>\n      <th>5347</th>\n      <td>2021-09-17</td>\n      <td>8</td>\n      <td>7</td>\n      <td>6</td>\n      <td>Manifest</td>\n      <td>TV Show</td>\n      <td>No</td>\n      <td>Jun 10, 2021</td>\n      <td>80</td>\n      <td>590</td>\n    </tr>\n    <tr>\n      <th>2809</th>\n      <td>2021-01-06</td>\n      <td>10</td>\n      <td>9</td>\n      <td>6</td>\n      <td>The Queen's Gambit</td>\n      <td>TV Show</td>\n      <td>Yes</td>\n      <td>Oct 23, 2020</td>\n      <td>73</td>\n      <td>446</td>\n    </tr>\n  </tbody>\n</table>\n</div>"
     },
     "execution_count": 79,
     "metadata": {},
     "output_type": "execute_result"
    }
   ],
   "source": [
    "df1.head()"
   ],
   "metadata": {
    "collapsed": false,
    "pycharm": {
     "name": "#%%\n"
    }
   }
  },
  {
   "cell_type": "code",
   "execution_count": 80,
   "outputs": [],
   "source": [
    "df_movies = df1[df1.Type == 'Movie']\n",
    "df_series = df1[df1.Type == 'TV Show']"
   ],
   "metadata": {
    "collapsed": false,
    "pycharm": {
     "name": "#%%\n"
    }
   }
  },
  {
   "cell_type": "code",
   "execution_count": 81,
   "outputs": [
    {
     "data": {
      "text/plain": "           As of  Rank  Year to Date Rank  Last Week Rank  \\\n4258  2021-05-31     9                  9               6   \n5476  2021-09-30     7                  0               0   \n2719  2020-12-28    10                  6               2   \n959   2020-07-05    10                 10               4   \n6997  2022-03-01     8                  9               9   \n6589  2022-01-19    10                  9               5   \n2475  2020-12-04     6                  9               6   \n6346  2021-12-26     7                  5               0   \n2929  2021-01-18    10                  9               5   \n6208  2021-12-12     9                 10               9   \n\n                               Title   Type Netflix Exclusive  \\\n4258  The Mitchells vs. The Machines  Movie               Yes   \n5476                            Vivo  Movie               Yes   \n2719  How the Grinch Stole Christmas  Movie                No   \n959                         365 Days  Movie               Yes   \n6997                 Despicable Me 2  Movie                No   \n6589                   Don't Look Up  Movie               Yes   \n2475    Illumination Presents The G…  Movie                No   \n6346      The Christmas Chronicles 2  Movie               Yes   \n2929                We Can Be Heroes  Movie               Yes   \n6208                      Red Notice  Movie               Yes   \n\n     Netflix Release Date  Days In Top 10  Viewership Score  \n4258         Apr 30, 2021              31               204  \n5476          Aug 6, 2021              29               166  \n2719          Jun 1, 2017              29               137  \n959           Jul 7, 2020              28               213  \n6997          Feb 1, 2022              27                88  \n6589         Dec 24, 2021              26               189  \n2475          Jun 5, 2019              24                95  \n6346         Nov 25, 2020              24               132  \n2929         Dec 25, 2020              24               144  \n6208         Nov 12, 2021              23               162  ",
      "text/html": "<div>\n<style scoped>\n    .dataframe tbody tr th:only-of-type {\n        vertical-align: middle;\n    }\n\n    .dataframe tbody tr th {\n        vertical-align: top;\n    }\n\n    .dataframe thead th {\n        text-align: right;\n    }\n</style>\n<table border=\"1\" class=\"dataframe\">\n  <thead>\n    <tr style=\"text-align: right;\">\n      <th></th>\n      <th>As of</th>\n      <th>Rank</th>\n      <th>Year to Date Rank</th>\n      <th>Last Week Rank</th>\n      <th>Title</th>\n      <th>Type</th>\n      <th>Netflix Exclusive</th>\n      <th>Netflix Release Date</th>\n      <th>Days In Top 10</th>\n      <th>Viewership Score</th>\n    </tr>\n  </thead>\n  <tbody>\n    <tr>\n      <th>4258</th>\n      <td>2021-05-31</td>\n      <td>9</td>\n      <td>9</td>\n      <td>6</td>\n      <td>The Mitchells vs. The Machines</td>\n      <td>Movie</td>\n      <td>Yes</td>\n      <td>Apr 30, 2021</td>\n      <td>31</td>\n      <td>204</td>\n    </tr>\n    <tr>\n      <th>5476</th>\n      <td>2021-09-30</td>\n      <td>7</td>\n      <td>0</td>\n      <td>0</td>\n      <td>Vivo</td>\n      <td>Movie</td>\n      <td>Yes</td>\n      <td>Aug 6, 2021</td>\n      <td>29</td>\n      <td>166</td>\n    </tr>\n    <tr>\n      <th>2719</th>\n      <td>2020-12-28</td>\n      <td>10</td>\n      <td>6</td>\n      <td>2</td>\n      <td>How the Grinch Stole Christmas</td>\n      <td>Movie</td>\n      <td>No</td>\n      <td>Jun 1, 2017</td>\n      <td>29</td>\n      <td>137</td>\n    </tr>\n    <tr>\n      <th>959</th>\n      <td>2020-07-05</td>\n      <td>10</td>\n      <td>10</td>\n      <td>4</td>\n      <td>365 Days</td>\n      <td>Movie</td>\n      <td>Yes</td>\n      <td>Jul 7, 2020</td>\n      <td>28</td>\n      <td>213</td>\n    </tr>\n    <tr>\n      <th>6997</th>\n      <td>2022-03-01</td>\n      <td>8</td>\n      <td>9</td>\n      <td>9</td>\n      <td>Despicable Me 2</td>\n      <td>Movie</td>\n      <td>No</td>\n      <td>Feb 1, 2022</td>\n      <td>27</td>\n      <td>88</td>\n    </tr>\n    <tr>\n      <th>6589</th>\n      <td>2022-01-19</td>\n      <td>10</td>\n      <td>9</td>\n      <td>5</td>\n      <td>Don't Look Up</td>\n      <td>Movie</td>\n      <td>Yes</td>\n      <td>Dec 24, 2021</td>\n      <td>26</td>\n      <td>189</td>\n    </tr>\n    <tr>\n      <th>2475</th>\n      <td>2020-12-04</td>\n      <td>6</td>\n      <td>9</td>\n      <td>6</td>\n      <td>Illumination Presents The G…</td>\n      <td>Movie</td>\n      <td>No</td>\n      <td>Jun 5, 2019</td>\n      <td>24</td>\n      <td>95</td>\n    </tr>\n    <tr>\n      <th>6346</th>\n      <td>2021-12-26</td>\n      <td>7</td>\n      <td>5</td>\n      <td>0</td>\n      <td>The Christmas Chronicles 2</td>\n      <td>Movie</td>\n      <td>Yes</td>\n      <td>Nov 25, 2020</td>\n      <td>24</td>\n      <td>132</td>\n    </tr>\n    <tr>\n      <th>2929</th>\n      <td>2021-01-18</td>\n      <td>10</td>\n      <td>9</td>\n      <td>5</td>\n      <td>We Can Be Heroes</td>\n      <td>Movie</td>\n      <td>Yes</td>\n      <td>Dec 25, 2020</td>\n      <td>24</td>\n      <td>144</td>\n    </tr>\n    <tr>\n      <th>6208</th>\n      <td>2021-12-12</td>\n      <td>9</td>\n      <td>10</td>\n      <td>9</td>\n      <td>Red Notice</td>\n      <td>Movie</td>\n      <td>Yes</td>\n      <td>Nov 12, 2021</td>\n      <td>23</td>\n      <td>162</td>\n    </tr>\n  </tbody>\n</table>\n</div>"
     },
     "execution_count": 81,
     "metadata": {},
     "output_type": "execute_result"
    }
   ],
   "source": [
    "df_movies.head(10)"
   ],
   "metadata": {
    "collapsed": false,
    "pycharm": {
     "name": "#%%\n"
    }
   }
  },
  {
   "cell_type": "code",
   "execution_count": 82,
   "outputs": [
    {
     "data": {
      "text/plain": "           As of  Rank  Year to Date Rank  Last Week Rank               Title  \\\n6998  2022-03-01     9                  0               0           Cocomelon   \n6996  2022-03-01     7                  7               8               Ozark   \n6678  2022-01-28     9                  7               5           Cobra Kai   \n5347  2021-09-17     8                  7               6            Manifest   \n2809  2021-01-06    10                  9               6  The Queen's Gambit   \n5187  2021-09-01     8                  9               6         Outer Banks   \n6068  2021-11-28     9                 10              10          Squid Game   \n5209  2021-09-03    10                  9               6        All American   \n3269  2021-02-21    10                 10               8          Bridgerton   \n5417  2021-09-24     8                  4               1             Lucifer   \n\n         Type Netflix Exclusive Netflix Release Date  Days In Top 10  \\\n6998  TV Show                No          Jun 1, 2020             428   \n6996  TV Show               Yes         Jul 21, 2017              89   \n6678  TV Show                No         Aug 28, 2020              81   \n5347  TV Show                No         Jun 10, 2021              80   \n2809  TV Show               Yes         Oct 23, 2020              73   \n5187  TV Show               Yes         Apr 15, 2020              72   \n6068  TV Show               Yes         Sep 17, 2021              66   \n5209  TV Show                No         Mar 28, 2019              66   \n3269  TV Show               Yes         Dec 25, 2020              58   \n5417  TV Show                No         Dec 15, 2018              57   \n\n      Viewership Score  \n6998              1474  \n6996               536  \n6678               582  \n5347               590  \n2809               446  \n5187               534  \n6068               495  \n5209               416  \n3269               432  \n5417               415  ",
      "text/html": "<div>\n<style scoped>\n    .dataframe tbody tr th:only-of-type {\n        vertical-align: middle;\n    }\n\n    .dataframe tbody tr th {\n        vertical-align: top;\n    }\n\n    .dataframe thead th {\n        text-align: right;\n    }\n</style>\n<table border=\"1\" class=\"dataframe\">\n  <thead>\n    <tr style=\"text-align: right;\">\n      <th></th>\n      <th>As of</th>\n      <th>Rank</th>\n      <th>Year to Date Rank</th>\n      <th>Last Week Rank</th>\n      <th>Title</th>\n      <th>Type</th>\n      <th>Netflix Exclusive</th>\n      <th>Netflix Release Date</th>\n      <th>Days In Top 10</th>\n      <th>Viewership Score</th>\n    </tr>\n  </thead>\n  <tbody>\n    <tr>\n      <th>6998</th>\n      <td>2022-03-01</td>\n      <td>9</td>\n      <td>0</td>\n      <td>0</td>\n      <td>Cocomelon</td>\n      <td>TV Show</td>\n      <td>No</td>\n      <td>Jun 1, 2020</td>\n      <td>428</td>\n      <td>1474</td>\n    </tr>\n    <tr>\n      <th>6996</th>\n      <td>2022-03-01</td>\n      <td>7</td>\n      <td>7</td>\n      <td>8</td>\n      <td>Ozark</td>\n      <td>TV Show</td>\n      <td>Yes</td>\n      <td>Jul 21, 2017</td>\n      <td>89</td>\n      <td>536</td>\n    </tr>\n    <tr>\n      <th>6678</th>\n      <td>2022-01-28</td>\n      <td>9</td>\n      <td>7</td>\n      <td>5</td>\n      <td>Cobra Kai</td>\n      <td>TV Show</td>\n      <td>No</td>\n      <td>Aug 28, 2020</td>\n      <td>81</td>\n      <td>582</td>\n    </tr>\n    <tr>\n      <th>5347</th>\n      <td>2021-09-17</td>\n      <td>8</td>\n      <td>7</td>\n      <td>6</td>\n      <td>Manifest</td>\n      <td>TV Show</td>\n      <td>No</td>\n      <td>Jun 10, 2021</td>\n      <td>80</td>\n      <td>590</td>\n    </tr>\n    <tr>\n      <th>2809</th>\n      <td>2021-01-06</td>\n      <td>10</td>\n      <td>9</td>\n      <td>6</td>\n      <td>The Queen's Gambit</td>\n      <td>TV Show</td>\n      <td>Yes</td>\n      <td>Oct 23, 2020</td>\n      <td>73</td>\n      <td>446</td>\n    </tr>\n    <tr>\n      <th>5187</th>\n      <td>2021-09-01</td>\n      <td>8</td>\n      <td>9</td>\n      <td>6</td>\n      <td>Outer Banks</td>\n      <td>TV Show</td>\n      <td>Yes</td>\n      <td>Apr 15, 2020</td>\n      <td>72</td>\n      <td>534</td>\n    </tr>\n    <tr>\n      <th>6068</th>\n      <td>2021-11-28</td>\n      <td>9</td>\n      <td>10</td>\n      <td>10</td>\n      <td>Squid Game</td>\n      <td>TV Show</td>\n      <td>Yes</td>\n      <td>Sep 17, 2021</td>\n      <td>66</td>\n      <td>495</td>\n    </tr>\n    <tr>\n      <th>5209</th>\n      <td>2021-09-03</td>\n      <td>10</td>\n      <td>9</td>\n      <td>6</td>\n      <td>All American</td>\n      <td>TV Show</td>\n      <td>No</td>\n      <td>Mar 28, 2019</td>\n      <td>66</td>\n      <td>416</td>\n    </tr>\n    <tr>\n      <th>3269</th>\n      <td>2021-02-21</td>\n      <td>10</td>\n      <td>10</td>\n      <td>8</td>\n      <td>Bridgerton</td>\n      <td>TV Show</td>\n      <td>Yes</td>\n      <td>Dec 25, 2020</td>\n      <td>58</td>\n      <td>432</td>\n    </tr>\n    <tr>\n      <th>5417</th>\n      <td>2021-09-24</td>\n      <td>8</td>\n      <td>4</td>\n      <td>1</td>\n      <td>Lucifer</td>\n      <td>TV Show</td>\n      <td>No</td>\n      <td>Dec 15, 2018</td>\n      <td>57</td>\n      <td>415</td>\n    </tr>\n  </tbody>\n</table>\n</div>"
     },
     "execution_count": 82,
     "metadata": {},
     "output_type": "execute_result"
    }
   ],
   "source": [
    "df_series.head(10)"
   ],
   "metadata": {
    "collapsed": false,
    "pycharm": {
     "name": "#%%\n"
    }
   }
  },
  {
   "cell_type": "code",
   "execution_count": 83,
   "outputs": [
    {
     "data": {
      "text/plain": "           As of  Rank  Year to Date Rank  Last Week Rank               Title  \\\n6998  2022-03-01     9                  0               0           Cocomelon   \n6996  2022-03-01     7                  7               8               Ozark   \n6678  2022-01-28     9                  7               5           Cobra Kai   \n5347  2021-09-17     8                  7               6            Manifest   \n2809  2021-01-06    10                  9               6  The Queen's Gambit   \n\n         Type Netflix Exclusive Netflix Release Date  Days In Top 10  \\\n6998  TV Show                No          Jun 1, 2020             428   \n6996  TV Show               Yes         Jul 21, 2017              89   \n6678  TV Show                No         Aug 28, 2020              81   \n5347  TV Show                No         Jun 10, 2021              80   \n2809  TV Show               Yes         Oct 23, 2020              73   \n\n      Viewership Score  \n6998              1474  \n6996               536  \n6678               582  \n5347               590  \n2809               446  ",
      "text/html": "<div>\n<style scoped>\n    .dataframe tbody tr th:only-of-type {\n        vertical-align: middle;\n    }\n\n    .dataframe tbody tr th {\n        vertical-align: top;\n    }\n\n    .dataframe thead th {\n        text-align: right;\n    }\n</style>\n<table border=\"1\" class=\"dataframe\">\n  <thead>\n    <tr style=\"text-align: right;\">\n      <th></th>\n      <th>As of</th>\n      <th>Rank</th>\n      <th>Year to Date Rank</th>\n      <th>Last Week Rank</th>\n      <th>Title</th>\n      <th>Type</th>\n      <th>Netflix Exclusive</th>\n      <th>Netflix Release Date</th>\n      <th>Days In Top 10</th>\n      <th>Viewership Score</th>\n    </tr>\n  </thead>\n  <tbody>\n    <tr>\n      <th>6998</th>\n      <td>2022-03-01</td>\n      <td>9</td>\n      <td>0</td>\n      <td>0</td>\n      <td>Cocomelon</td>\n      <td>TV Show</td>\n      <td>No</td>\n      <td>Jun 1, 2020</td>\n      <td>428</td>\n      <td>1474</td>\n    </tr>\n    <tr>\n      <th>6996</th>\n      <td>2022-03-01</td>\n      <td>7</td>\n      <td>7</td>\n      <td>8</td>\n      <td>Ozark</td>\n      <td>TV Show</td>\n      <td>Yes</td>\n      <td>Jul 21, 2017</td>\n      <td>89</td>\n      <td>536</td>\n    </tr>\n    <tr>\n      <th>6678</th>\n      <td>2022-01-28</td>\n      <td>9</td>\n      <td>7</td>\n      <td>5</td>\n      <td>Cobra Kai</td>\n      <td>TV Show</td>\n      <td>No</td>\n      <td>Aug 28, 2020</td>\n      <td>81</td>\n      <td>582</td>\n    </tr>\n    <tr>\n      <th>5347</th>\n      <td>2021-09-17</td>\n      <td>8</td>\n      <td>7</td>\n      <td>6</td>\n      <td>Manifest</td>\n      <td>TV Show</td>\n      <td>No</td>\n      <td>Jun 10, 2021</td>\n      <td>80</td>\n      <td>590</td>\n    </tr>\n    <tr>\n      <th>2809</th>\n      <td>2021-01-06</td>\n      <td>10</td>\n      <td>9</td>\n      <td>6</td>\n      <td>The Queen's Gambit</td>\n      <td>TV Show</td>\n      <td>Yes</td>\n      <td>Oct 23, 2020</td>\n      <td>73</td>\n      <td>446</td>\n    </tr>\n  </tbody>\n</table>\n</div>"
     },
     "execution_count": 83,
     "metadata": {},
     "output_type": "execute_result"
    }
   ],
   "source": [
    "df1.Title.str.replace('â', '\\'')\n",
    "# The Queenâs Gambit\n",
    "df1.head()"
   ],
   "metadata": {
    "collapsed": false,
    "pycharm": {
     "name": "#%%\n"
    }
   }
  },
  {
   "cell_type": "code",
   "execution_count": 84,
   "outputs": [],
   "source": [
    "df.to_csv(r'..\\data\\netflix-daily-top-10.csv', sep=',', index=False)"
   ],
   "metadata": {
    "collapsed": false,
    "pycharm": {
     "name": "#%%\n"
    }
   }
  },
  {
   "cell_type": "code",
   "execution_count": 84,
   "outputs": [],
   "source": [],
   "metadata": {
    "collapsed": false,
    "pycharm": {
     "name": "#%%\n"
    }
   }
  }
 ],
 "metadata": {
  "kernelspec": {
   "display_name": "Python 3",
   "language": "python",
   "name": "python3"
  },
  "language_info": {
   "codemirror_mode": {
    "name": "ipython",
    "version": 2
   },
   "file_extension": ".py",
   "mimetype": "text/x-python",
   "name": "python",
   "nbconvert_exporter": "python",
   "pygments_lexer": "ipython2",
   "version": "2.7.6"
  }
 },
 "nbformat": 4,
 "nbformat_minor": 0
}